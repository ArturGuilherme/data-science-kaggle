{
  "nbformat": 4,
  "nbformat_minor": 0,
  "metadata": {
    "colab": {
      "name": "Kaggle - Titanic.ipynb",
      "provenance": [],
      "collapsed_sections": [
        "en8YVbF6pE_L"
      ],
      "toc_visible": true,
      "authorship_tag": "ABX9TyN+9DksLq1SntzYwlRP3T3D",
      "include_colab_link": true
    },
    "kernelspec": {
      "name": "python3",
      "display_name": "Python 3"
    }
  },
  "cells": [
    {
      "cell_type": "markdown",
      "metadata": {
        "id": "view-in-github",
        "colab_type": "text"
      },
      "source": [
        "<a href=\"https://colab.research.google.com/github/ArturGuilherme/data-science-kaggle/blob/master/Kaggle_Titanic.ipynb\" target=\"_parent\"><img src=\"https://colab.research.google.com/assets/colab-badge.svg\" alt=\"Open In Colab\"/></a>"
      ]
    },
    {
      "cell_type": "markdown",
      "metadata": {
        "id": "kxP6slkvVORE",
        "colab_type": "text"
      },
      "source": [
        "## Introdução\n",
        "\n",
        "\n",
        "**Desafio do Kaggle**:  Titanic - Machine Learning from Disaster\n",
        "\n",
        "**Objetivo:** Utilizar os dados do passageiro do Titanic (nome, idade, preço da passagem, etc) para tentar prever quem vai sobreviver e quem vai morrer.\n",
        "\n",
        "**Datasets**: \n",
        "\n",
        "*   Train.csv - Dataset para treinamento o algoritmo de classificação\n",
        "*   Test.csv - Dataset para teste do algoritmo de classificação\n",
        "\n",
        "**Algoritmo de classificação**: Random forest\n",
        "\n",
        "\n",
        "\n",
        "\n"
      ]
    },
    {
      "cell_type": "markdown",
      "metadata": {
        "id": "8Ad8QbkUbXjQ",
        "colab_type": "text"
      },
      "source": [
        "## Importação das bibliotecas e datasets "
      ]
    },
    {
      "cell_type": "code",
      "metadata": {
        "id": "kid2GIC5Xsch",
        "colab_type": "code",
        "colab": {}
      },
      "source": [
        "#Importando as bibliotecas\n",
        "import pandas as pd\n",
        "import numpy as np\n",
        "import matplotlib.pyplot as plt\n",
        "import seaborn as sns\n",
        "import re\n",
        "from sklearn.ensemble import RandomForestClassifier"
      ],
      "execution_count": 248,
      "outputs": []
    },
    {
      "cell_type": "code",
      "metadata": {
        "id": "M7DT2Y4xZpIN",
        "colab_type": "code",
        "colab": {}
      },
      "source": [
        "#Fazendo a leitura dos datasets de treinamento e também de teste\n",
        "df_train = pd.read_csv('train.csv')\n",
        "df_test = pd.read_csv('test.csv')"
      ],
      "execution_count": 249,
      "outputs": []
    },
    {
      "cell_type": "code",
      "metadata": {
        "id": "abVBnc-zasvD",
        "colab_type": "code",
        "colab": {
          "base_uri": "https://localhost:8080/",
          "height": 0
        },
        "outputId": "1a470863-05f7-42ad-a3cb-88fdca42ed71"
      },
      "source": [
        "# teste de importação para a base train\n",
        "df_train.head() # Sem passagem de parametro, por padrão serão visualizadas 5 amostras"
      ],
      "execution_count": 250,
      "outputs": [
        {
          "output_type": "execute_result",
          "data": {
            "text/html": [
              "<div>\n",
              "<style scoped>\n",
              "    .dataframe tbody tr th:only-of-type {\n",
              "        vertical-align: middle;\n",
              "    }\n",
              "\n",
              "    .dataframe tbody tr th {\n",
              "        vertical-align: top;\n",
              "    }\n",
              "\n",
              "    .dataframe thead th {\n",
              "        text-align: right;\n",
              "    }\n",
              "</style>\n",
              "<table border=\"1\" class=\"dataframe\">\n",
              "  <thead>\n",
              "    <tr style=\"text-align: right;\">\n",
              "      <th></th>\n",
              "      <th>PassengerId</th>\n",
              "      <th>Survived</th>\n",
              "      <th>Pclass</th>\n",
              "      <th>Name</th>\n",
              "      <th>Sex</th>\n",
              "      <th>Age</th>\n",
              "      <th>SibSp</th>\n",
              "      <th>Parch</th>\n",
              "      <th>Ticket</th>\n",
              "      <th>Fare</th>\n",
              "      <th>Cabin</th>\n",
              "      <th>Embarked</th>\n",
              "    </tr>\n",
              "  </thead>\n",
              "  <tbody>\n",
              "    <tr>\n",
              "      <th>0</th>\n",
              "      <td>1</td>\n",
              "      <td>0</td>\n",
              "      <td>3</td>\n",
              "      <td>Braund, Mr. Owen Harris</td>\n",
              "      <td>male</td>\n",
              "      <td>22.0</td>\n",
              "      <td>1</td>\n",
              "      <td>0</td>\n",
              "      <td>A/5 21171</td>\n",
              "      <td>7.2500</td>\n",
              "      <td>NaN</td>\n",
              "      <td>S</td>\n",
              "    </tr>\n",
              "    <tr>\n",
              "      <th>1</th>\n",
              "      <td>2</td>\n",
              "      <td>1</td>\n",
              "      <td>1</td>\n",
              "      <td>Cumings, Mrs. John Bradley (Florence Briggs Th...</td>\n",
              "      <td>female</td>\n",
              "      <td>38.0</td>\n",
              "      <td>1</td>\n",
              "      <td>0</td>\n",
              "      <td>PC 17599</td>\n",
              "      <td>71.2833</td>\n",
              "      <td>C85</td>\n",
              "      <td>C</td>\n",
              "    </tr>\n",
              "    <tr>\n",
              "      <th>2</th>\n",
              "      <td>3</td>\n",
              "      <td>1</td>\n",
              "      <td>3</td>\n",
              "      <td>Heikkinen, Miss. Laina</td>\n",
              "      <td>female</td>\n",
              "      <td>26.0</td>\n",
              "      <td>0</td>\n",
              "      <td>0</td>\n",
              "      <td>STON/O2. 3101282</td>\n",
              "      <td>7.9250</td>\n",
              "      <td>NaN</td>\n",
              "      <td>S</td>\n",
              "    </tr>\n",
              "    <tr>\n",
              "      <th>3</th>\n",
              "      <td>4</td>\n",
              "      <td>1</td>\n",
              "      <td>1</td>\n",
              "      <td>Futrelle, Mrs. Jacques Heath (Lily May Peel)</td>\n",
              "      <td>female</td>\n",
              "      <td>35.0</td>\n",
              "      <td>1</td>\n",
              "      <td>0</td>\n",
              "      <td>113803</td>\n",
              "      <td>53.1000</td>\n",
              "      <td>C123</td>\n",
              "      <td>S</td>\n",
              "    </tr>\n",
              "    <tr>\n",
              "      <th>4</th>\n",
              "      <td>5</td>\n",
              "      <td>0</td>\n",
              "      <td>3</td>\n",
              "      <td>Allen, Mr. William Henry</td>\n",
              "      <td>male</td>\n",
              "      <td>35.0</td>\n",
              "      <td>0</td>\n",
              "      <td>0</td>\n",
              "      <td>373450</td>\n",
              "      <td>8.0500</td>\n",
              "      <td>NaN</td>\n",
              "      <td>S</td>\n",
              "    </tr>\n",
              "  </tbody>\n",
              "</table>\n",
              "</div>"
            ],
            "text/plain": [
              "   PassengerId  Survived  Pclass  ...     Fare Cabin  Embarked\n",
              "0            1         0       3  ...   7.2500   NaN         S\n",
              "1            2         1       1  ...  71.2833   C85         C\n",
              "2            3         1       3  ...   7.9250   NaN         S\n",
              "3            4         1       1  ...  53.1000  C123         S\n",
              "4            5         0       3  ...   8.0500   NaN         S\n",
              "\n",
              "[5 rows x 12 columns]"
            ]
          },
          "metadata": {
            "tags": []
          },
          "execution_count": 250
        }
      ]
    },
    {
      "cell_type": "code",
      "metadata": {
        "id": "o4G4Tzk_bEPg",
        "colab_type": "code",
        "colab": {
          "base_uri": "https://localhost:8080/",
          "height": 0
        },
        "outputId": "2c8ced6a-891b-4585-ba52-f58913e96dd6"
      },
      "source": [
        "# teste de importação para a base train\n",
        "df_test.head(3)"
      ],
      "execution_count": 251,
      "outputs": [
        {
          "output_type": "execute_result",
          "data": {
            "text/html": [
              "<div>\n",
              "<style scoped>\n",
              "    .dataframe tbody tr th:only-of-type {\n",
              "        vertical-align: middle;\n",
              "    }\n",
              "\n",
              "    .dataframe tbody tr th {\n",
              "        vertical-align: top;\n",
              "    }\n",
              "\n",
              "    .dataframe thead th {\n",
              "        text-align: right;\n",
              "    }\n",
              "</style>\n",
              "<table border=\"1\" class=\"dataframe\">\n",
              "  <thead>\n",
              "    <tr style=\"text-align: right;\">\n",
              "      <th></th>\n",
              "      <th>PassengerId</th>\n",
              "      <th>Pclass</th>\n",
              "      <th>Name</th>\n",
              "      <th>Sex</th>\n",
              "      <th>Age</th>\n",
              "      <th>SibSp</th>\n",
              "      <th>Parch</th>\n",
              "      <th>Ticket</th>\n",
              "      <th>Fare</th>\n",
              "      <th>Cabin</th>\n",
              "      <th>Embarked</th>\n",
              "    </tr>\n",
              "  </thead>\n",
              "  <tbody>\n",
              "    <tr>\n",
              "      <th>0</th>\n",
              "      <td>892</td>\n",
              "      <td>3</td>\n",
              "      <td>Kelly, Mr. James</td>\n",
              "      <td>male</td>\n",
              "      <td>34.5</td>\n",
              "      <td>0</td>\n",
              "      <td>0</td>\n",
              "      <td>330911</td>\n",
              "      <td>7.8292</td>\n",
              "      <td>NaN</td>\n",
              "      <td>Q</td>\n",
              "    </tr>\n",
              "    <tr>\n",
              "      <th>1</th>\n",
              "      <td>893</td>\n",
              "      <td>3</td>\n",
              "      <td>Wilkes, Mrs. James (Ellen Needs)</td>\n",
              "      <td>female</td>\n",
              "      <td>47.0</td>\n",
              "      <td>1</td>\n",
              "      <td>0</td>\n",
              "      <td>363272</td>\n",
              "      <td>7.0000</td>\n",
              "      <td>NaN</td>\n",
              "      <td>S</td>\n",
              "    </tr>\n",
              "    <tr>\n",
              "      <th>2</th>\n",
              "      <td>894</td>\n",
              "      <td>2</td>\n",
              "      <td>Myles, Mr. Thomas Francis</td>\n",
              "      <td>male</td>\n",
              "      <td>62.0</td>\n",
              "      <td>0</td>\n",
              "      <td>0</td>\n",
              "      <td>240276</td>\n",
              "      <td>9.6875</td>\n",
              "      <td>NaN</td>\n",
              "      <td>Q</td>\n",
              "    </tr>\n",
              "  </tbody>\n",
              "</table>\n",
              "</div>"
            ],
            "text/plain": [
              "   PassengerId  Pclass                              Name  ...    Fare  Cabin  Embarked\n",
              "0          892       3                  Kelly, Mr. James  ...  7.8292    NaN         Q\n",
              "1          893       3  Wilkes, Mrs. James (Ellen Needs)  ...  7.0000    NaN         S\n",
              "2          894       2         Myles, Mr. Thomas Francis  ...  9.6875    NaN         Q\n",
              "\n",
              "[3 rows x 11 columns]"
            ]
          },
          "metadata": {
            "tags": []
          },
          "execution_count": 251
        }
      ]
    },
    {
      "cell_type": "markdown",
      "metadata": {
        "id": "xxJ1lLJVEgMs",
        "colab_type": "text"
      },
      "source": [
        "Note que o dataset de teste não tem a coluna \"Survived\", pois nós que iremos predizer. "
      ]
    },
    {
      "cell_type": "markdown",
      "metadata": {
        "id": "HwvBMLX-bJ2q",
        "colab_type": "text"
      },
      "source": [
        "## Análise Exploratória\n"
      ]
    },
    {
      "cell_type": "code",
      "metadata": {
        "id": "3gnVMlxlbR9-",
        "colab_type": "code",
        "colab": {
          "base_uri": "https://localhost:8080/",
          "height": 0
        },
        "outputId": "b379dac2-22b9-43d8-d90a-02233cadb570"
      },
      "source": [
        "# Describe() é primera etapa da análise. A função nos trás algumas informações estatísticas básicas do nosso dataset para as colunas númericas\n",
        "df_train.describe()"
      ],
      "execution_count": 252,
      "outputs": [
        {
          "output_type": "execute_result",
          "data": {
            "text/html": [
              "<div>\n",
              "<style scoped>\n",
              "    .dataframe tbody tr th:only-of-type {\n",
              "        vertical-align: middle;\n",
              "    }\n",
              "\n",
              "    .dataframe tbody tr th {\n",
              "        vertical-align: top;\n",
              "    }\n",
              "\n",
              "    .dataframe thead th {\n",
              "        text-align: right;\n",
              "    }\n",
              "</style>\n",
              "<table border=\"1\" class=\"dataframe\">\n",
              "  <thead>\n",
              "    <tr style=\"text-align: right;\">\n",
              "      <th></th>\n",
              "      <th>PassengerId</th>\n",
              "      <th>Survived</th>\n",
              "      <th>Pclass</th>\n",
              "      <th>Age</th>\n",
              "      <th>SibSp</th>\n",
              "      <th>Parch</th>\n",
              "      <th>Fare</th>\n",
              "    </tr>\n",
              "  </thead>\n",
              "  <tbody>\n",
              "    <tr>\n",
              "      <th>count</th>\n",
              "      <td>891.000000</td>\n",
              "      <td>891.000000</td>\n",
              "      <td>891.000000</td>\n",
              "      <td>714.000000</td>\n",
              "      <td>891.000000</td>\n",
              "      <td>891.000000</td>\n",
              "      <td>891.000000</td>\n",
              "    </tr>\n",
              "    <tr>\n",
              "      <th>mean</th>\n",
              "      <td>446.000000</td>\n",
              "      <td>0.383838</td>\n",
              "      <td>2.308642</td>\n",
              "      <td>29.699118</td>\n",
              "      <td>0.523008</td>\n",
              "      <td>0.381594</td>\n",
              "      <td>32.204208</td>\n",
              "    </tr>\n",
              "    <tr>\n",
              "      <th>std</th>\n",
              "      <td>257.353842</td>\n",
              "      <td>0.486592</td>\n",
              "      <td>0.836071</td>\n",
              "      <td>14.526497</td>\n",
              "      <td>1.102743</td>\n",
              "      <td>0.806057</td>\n",
              "      <td>49.693429</td>\n",
              "    </tr>\n",
              "    <tr>\n",
              "      <th>min</th>\n",
              "      <td>1.000000</td>\n",
              "      <td>0.000000</td>\n",
              "      <td>1.000000</td>\n",
              "      <td>0.420000</td>\n",
              "      <td>0.000000</td>\n",
              "      <td>0.000000</td>\n",
              "      <td>0.000000</td>\n",
              "    </tr>\n",
              "    <tr>\n",
              "      <th>25%</th>\n",
              "      <td>223.500000</td>\n",
              "      <td>0.000000</td>\n",
              "      <td>2.000000</td>\n",
              "      <td>20.125000</td>\n",
              "      <td>0.000000</td>\n",
              "      <td>0.000000</td>\n",
              "      <td>7.910400</td>\n",
              "    </tr>\n",
              "    <tr>\n",
              "      <th>50%</th>\n",
              "      <td>446.000000</td>\n",
              "      <td>0.000000</td>\n",
              "      <td>3.000000</td>\n",
              "      <td>28.000000</td>\n",
              "      <td>0.000000</td>\n",
              "      <td>0.000000</td>\n",
              "      <td>14.454200</td>\n",
              "    </tr>\n",
              "    <tr>\n",
              "      <th>75%</th>\n",
              "      <td>668.500000</td>\n",
              "      <td>1.000000</td>\n",
              "      <td>3.000000</td>\n",
              "      <td>38.000000</td>\n",
              "      <td>1.000000</td>\n",
              "      <td>0.000000</td>\n",
              "      <td>31.000000</td>\n",
              "    </tr>\n",
              "    <tr>\n",
              "      <th>max</th>\n",
              "      <td>891.000000</td>\n",
              "      <td>1.000000</td>\n",
              "      <td>3.000000</td>\n",
              "      <td>80.000000</td>\n",
              "      <td>8.000000</td>\n",
              "      <td>6.000000</td>\n",
              "      <td>512.329200</td>\n",
              "    </tr>\n",
              "  </tbody>\n",
              "</table>\n",
              "</div>"
            ],
            "text/plain": [
              "       PassengerId    Survived      Pclass  ...       SibSp       Parch        Fare\n",
              "count   891.000000  891.000000  891.000000  ...  891.000000  891.000000  891.000000\n",
              "mean    446.000000    0.383838    2.308642  ...    0.523008    0.381594   32.204208\n",
              "std     257.353842    0.486592    0.836071  ...    1.102743    0.806057   49.693429\n",
              "min       1.000000    0.000000    1.000000  ...    0.000000    0.000000    0.000000\n",
              "25%     223.500000    0.000000    2.000000  ...    0.000000    0.000000    7.910400\n",
              "50%     446.000000    0.000000    3.000000  ...    0.000000    0.000000   14.454200\n",
              "75%     668.500000    1.000000    3.000000  ...    1.000000    0.000000   31.000000\n",
              "max     891.000000    1.000000    3.000000  ...    8.000000    6.000000  512.329200\n",
              "\n",
              "[8 rows x 7 columns]"
            ]
          },
          "metadata": {
            "tags": []
          },
          "execution_count": 252
        }
      ]
    },
    {
      "cell_type": "markdown",
      "metadata": {
        "id": "llikswijxKfY",
        "colab_type": "text"
      },
      "source": [
        "Podemos desconsiderar a coluna PassengerId nos dois datset, pois é uma  coluna ID. \n"
      ]
    },
    {
      "cell_type": "code",
      "metadata": {
        "id": "7M_bkd8Dg6Cx",
        "colab_type": "code",
        "colab": {
          "base_uri": "https://localhost:8080/",
          "height": 0
        },
        "outputId": "9278cfd8-6d16-40f1-c613-9d878ed6a43f"
      },
      "source": [
        "df_train.isnull().sum()"
      ],
      "execution_count": 253,
      "outputs": [
        {
          "output_type": "execute_result",
          "data": {
            "text/plain": [
              "PassengerId      0\n",
              "Survived         0\n",
              "Pclass           0\n",
              "Name             0\n",
              "Sex              0\n",
              "Age            177\n",
              "SibSp            0\n",
              "Parch            0\n",
              "Ticket           0\n",
              "Fare             0\n",
              "Cabin          687\n",
              "Embarked         2\n",
              "dtype: int64"
            ]
          },
          "metadata": {
            "tags": []
          },
          "execution_count": 253
        }
      ]
    },
    {
      "cell_type": "code",
      "metadata": {
        "id": "JYdsKB8ukGs7",
        "colab_type": "code",
        "colab": {
          "base_uri": "https://localhost:8080/",
          "height": 0
        },
        "outputId": "14973d0b-e330-40ab-9c97-36c6b58b520f"
      },
      "source": [
        "df_train.info()"
      ],
      "execution_count": 254,
      "outputs": [
        {
          "output_type": "stream",
          "text": [
            "<class 'pandas.core.frame.DataFrame'>\n",
            "RangeIndex: 891 entries, 0 to 890\n",
            "Data columns (total 12 columns):\n",
            " #   Column       Non-Null Count  Dtype  \n",
            "---  ------       --------------  -----  \n",
            " 0   PassengerId  891 non-null    int64  \n",
            " 1   Survived     891 non-null    int64  \n",
            " 2   Pclass       891 non-null    int64  \n",
            " 3   Name         891 non-null    object \n",
            " 4   Sex          891 non-null    object \n",
            " 5   Age          714 non-null    float64\n",
            " 6   SibSp        891 non-null    int64  \n",
            " 7   Parch        891 non-null    int64  \n",
            " 8   Ticket       891 non-null    object \n",
            " 9   Fare         891 non-null    float64\n",
            " 10  Cabin        204 non-null    object \n",
            " 11  Embarked     889 non-null    object \n",
            "dtypes: float64(2), int64(5), object(5)\n",
            "memory usage: 83.7+ KB\n"
          ],
          "name": "stdout"
        }
      ]
    },
    {
      "cell_type": "markdown",
      "metadata": {
        "id": "LhnNCTXpz1ao",
        "colab_type": "text"
      },
      "source": [
        "O dataset train.csv tem 891 amostras, 12 variaveis, sendo uma variável de predição e uma para ID.\n",
        "2 variaveis são flutuantes, 5 são inteiros e 5 são objetos. \n",
        "Podemos obervar que existe uma quantidade considerável de dados missing para as colunas Age e Cabin."
      ]
    },
    {
      "cell_type": "markdown",
      "metadata": {
        "id": "en8YVbF6pE_L",
        "colab_type": "text"
      },
      "source": [
        "### **1 - Sexo e Sobrevivência**"
      ]
    },
    {
      "cell_type": "code",
      "metadata": {
        "id": "X3Si4iIY0POl",
        "colab_type": "code",
        "colab": {
          "base_uri": "https://localhost:8080/",
          "height": 0
        },
        "outputId": "2d04b265-5108-485c-bdd2-d0c0b7a9cc16"
      },
      "source": [
        "# Quantidade de pessoas que sobreviveram e morreram. \n",
        "# 0 - Morreu \n",
        "# 1 - Sobreviveu\n",
        "qtd_suvived = df_train[df_train.Survived == 1].Survived.count()\n",
        "qtd_died = df_train[df_train.Survived == 0].Survived.count()\n",
        "print('Qtde pessoas que sobreviveram: '+str(qtd_suvived))\n",
        "print('Qtde pessoas que morreram: '+str(qtd_died))\n",
        "sns.countplot(x='Survived', data=df_train);"
      ],
      "execution_count": 255,
      "outputs": [
        {
          "output_type": "stream",
          "text": [
            "Qtde pessoas que sobreviveram: 342\n",
            "Qtde pessoas que morreram: 549\n"
          ],
          "name": "stdout"
        },
        {
          "output_type": "display_data",
          "data": {
            "image/png": "[encoded data removed]",
            "text/plain": [
              "<Figure size 432x288 with 1 Axes>"
            ]
          },
          "metadata": {
            "tags": [],
            "needs_background": "light"
          }
        }
      ]
    },
    {
      "cell_type": "code",
      "metadata": {
        "id": "o5QEk44J37eu",
        "colab_type": "code",
        "colab": {
          "base_uri": "https://localhost:8080/",
          "height": 0
        },
        "outputId": "225439d6-bf39-45e0-c4ac-f4cae4e4c4a8"
      },
      "source": [
        "df_survided = df_train[df_train['Survived'] == 1]\n",
        "qtd_female_survided = df_survided[df_survided['Sex'] == 'female'].Sex.count()\n",
        "qtdn_male_survided = df_survided[df_survided['Sex'] == 'male'].Sex.count()\n",
        "\n",
        "print('Qtde de Homens que sobreviram: '+str(qtdn_male_survided))\n",
        "print('Qtde de Mulheres que sobreviram: '+str(qtd_female_survided))\n",
        "\n",
        "sns.catplot(x='Sex', col='Survived', kind='count', data=df_train);"
      ],
      "execution_count": 256,
      "outputs": [
        {
          "output_type": "stream",
          "text": [
            "Qtde de Homens que sobreviram: 109\n",
            "Qtde de Mulheres que sobreviram: 233\n"
          ],
          "name": "stdout"
        },
        {
          "output_type": "display_data",
          "data": {
            "image/png": "[encoded data removed]",
            "text/plain": [
              "<Figure size 720x360 with 2 Axes>"
            ]
          },
          "metadata": {
            "tags": [],
            "needs_background": "light"
          }
        }
      ]
    },
    {
      "cell_type": "markdown",
      "metadata": {
        "id": "NEUCYwjY4Ldo",
        "colab_type": "text"
      },
      "source": [
        "A primeira análise a ser considerada é, sobreviram mais **mulheres do que homens**. Dos 38% das pessoas que sobreviveram, **68.12%** são mulheres e **31.88%** são homens."
      ]
    },
    {
      "cell_type": "markdown",
      "metadata": {
        "id": "FGHOcu0MpaZH",
        "colab_type": "text"
      },
      "source": [
        "### **2 - Classe e Sobrevivência**"
      ]
    },
    {
      "cell_type": "code",
      "metadata": {
        "id": "N3hENxjRZOcg",
        "colab_type": "code",
        "colab": {
          "base_uri": "https://localhost:8080/",
          "height": 0
        },
        "outputId": "360e01a2-2e91-4974-f7a6-2897875af848"
      },
      "source": [
        "pd.crosstab(df_train.Pclass, df_train.Survived, margins=True).style.background_gradient(cmap='autumn_r')"
      ],
      "execution_count": 257,
      "outputs": [
        {
          "output_type": "execute_result",
          "data": {
            "text/html": [
              "<style  type=\"text/css\" >\n",
              "    #T_93a4494a_efc6_11ea_9000_0242ac1c0002row0_col0 {\n",
              "            background-color:  #ffff00;\n",
              "            color:  #000000;\n",
              "        }    #T_93a4494a_efc6_11ea_9000_0242ac1c0002row0_col1 {\n",
              "            background-color:  #ffce00;\n",
              "            color:  #000000;\n",
              "        }    #T_93a4494a_efc6_11ea_9000_0242ac1c0002row0_col2 {\n",
              "            background-color:  #fff400;\n",
              "            color:  #000000;\n",
              "        }    #T_93a4494a_efc6_11ea_9000_0242ac1c0002row1_col0 {\n",
              "            background-color:  #fff600;\n",
              "            color:  #000000;\n",
              "        }    #T_93a4494a_efc6_11ea_9000_0242ac1c0002row1_col1 {\n",
              "            background-color:  #ffff00;\n",
              "            color:  #000000;\n",
              "        }    #T_93a4494a_efc6_11ea_9000_0242ac1c0002row1_col2 {\n",
              "            background-color:  #ffff00;\n",
              "            color:  #000000;\n",
              "        }    #T_93a4494a_efc6_11ea_9000_0242ac1c0002row2_col0 {\n",
              "            background-color:  #ff6000;\n",
              "            color:  #000000;\n",
              "        }    #T_93a4494a_efc6_11ea_9000_0242ac1c0002row2_col1 {\n",
              "            background-color:  #ffdf00;\n",
              "            color:  #000000;\n",
              "        }    #T_93a4494a_efc6_11ea_9000_0242ac1c0002row2_col2 {\n",
              "            background-color:  #ff9000;\n",
              "            color:  #000000;\n",
              "        }    #T_93a4494a_efc6_11ea_9000_0242ac1c0002row3_col0 {\n",
              "            background-color:  #ff0000;\n",
              "            color:  #f1f1f1;\n",
              "        }    #T_93a4494a_efc6_11ea_9000_0242ac1c0002row3_col1 {\n",
              "            background-color:  #ff0000;\n",
              "            color:  #f1f1f1;\n",
              "        }    #T_93a4494a_efc6_11ea_9000_0242ac1c0002row3_col2 {\n",
              "            background-color:  #ff0000;\n",
              "            color:  #f1f1f1;\n",
              "        }</style><table id=\"T_93a4494a_efc6_11ea_9000_0242ac1c0002\" ><thead>    <tr>        <th class=\"index_name level0\" >Survived</th>        <th class=\"col_heading level0 col0\" >0</th>        <th class=\"col_heading level0 col1\" >1</th>        <th class=\"col_heading level0 col2\" >All</th>    </tr>    <tr>        <th class=\"index_name level0\" >Pclass</th>        <th class=\"blank\" ></th>        <th class=\"blank\" ></th>        <th class=\"blank\" ></th>    </tr></thead><tbody>\n",
              "                <tr>\n",
              "                        <th id=\"T_93a4494a_efc6_11ea_9000_0242ac1c0002level0_row0\" class=\"row_heading level0 row0\" >1</th>\n",
              "                        <td id=\"T_93a4494a_efc6_11ea_9000_0242ac1c0002row0_col0\" class=\"data row0 col0\" >80</td>\n",
              "                        <td id=\"T_93a4494a_efc6_11ea_9000_0242ac1c0002row0_col1\" class=\"data row0 col1\" >136</td>\n",
              "                        <td id=\"T_93a4494a_efc6_11ea_9000_0242ac1c0002row0_col2\" class=\"data row0 col2\" >216</td>\n",
              "            </tr>\n",
              "            <tr>\n",
              "                        <th id=\"T_93a4494a_efc6_11ea_9000_0242ac1c0002level0_row1\" class=\"row_heading level0 row1\" >2</th>\n",
              "                        <td id=\"T_93a4494a_efc6_11ea_9000_0242ac1c0002row1_col0\" class=\"data row1 col0\" >97</td>\n",
              "                        <td id=\"T_93a4494a_efc6_11ea_9000_0242ac1c0002row1_col1\" class=\"data row1 col1\" >87</td>\n",
              "                        <td id=\"T_93a4494a_efc6_11ea_9000_0242ac1c0002row1_col2\" class=\"data row1 col2\" >184</td>\n",
              "            </tr>\n",
              "            <tr>\n",
              "                        <th id=\"T_93a4494a_efc6_11ea_9000_0242ac1c0002level0_row2\" class=\"row_heading level0 row2\" >3</th>\n",
              "                        <td id=\"T_93a4494a_efc6_11ea_9000_0242ac1c0002row2_col0\" class=\"data row2 col0\" >372</td>\n",
              "                        <td id=\"T_93a4494a_efc6_11ea_9000_0242ac1c0002row2_col1\" class=\"data row2 col1\" >119</td>\n",
              "                        <td id=\"T_93a4494a_efc6_11ea_9000_0242ac1c0002row2_col2\" class=\"data row2 col2\" >491</td>\n",
              "            </tr>\n",
              "            <tr>\n",
              "                        <th id=\"T_93a4494a_efc6_11ea_9000_0242ac1c0002level0_row3\" class=\"row_heading level0 row3\" >All</th>\n",
              "                        <td id=\"T_93a4494a_efc6_11ea_9000_0242ac1c0002row3_col0\" class=\"data row3 col0\" >549</td>\n",
              "                        <td id=\"T_93a4494a_efc6_11ea_9000_0242ac1c0002row3_col1\" class=\"data row3 col1\" >342</td>\n",
              "                        <td id=\"T_93a4494a_efc6_11ea_9000_0242ac1c0002row3_col2\" class=\"data row3 col2\" >891</td>\n",
              "            </tr>\n",
              "    </tbody></table>"
            ],
            "text/plain": [
              "<pandas.io.formats.style.Styler at 0x7f5388be7908>"
            ]
          },
          "metadata": {
            "tags": []
          },
          "execution_count": 257
        }
      ]
    },
    {
      "cell_type": "markdown",
      "metadata": {
        "id": "AZzKX5q7Z-v9",
        "colab_type": "text"
      },
      "source": [
        "A terceira classe teve a maior quantidade de passageiros e também onde  morreram mais passageiros."
      ]
    },
    {
      "cell_type": "code",
      "metadata": {
        "id": "c2yptruWcuDI",
        "colab_type": "code",
        "colab": {
          "base_uri": "https://localhost:8080/",
          "height": 0
        },
        "outputId": "665cab2b-fa3b-41dd-d73e-4ae7ff23c8e2"
      },
      "source": [
        "print(\"% de Sobrevivência\") \n",
        "print(\"Pclass=1 : \", df_train.Survived[df_train.Pclass == 1].sum()/df_train[df_train.Pclass == 1].Survived.count())\n",
        "print(\"Pclass=2 : \", df_train.Survived[df_train.Pclass == 2].sum()/df_train[df_train.Pclass == 2].Survived.count())\n",
        "print(\"Pclass=3 : \", df_train.Survived[df_train.Pclass == 3].sum()/df_train[df_train.Pclass == 3].Survived.count())"
      ],
      "execution_count": 258,
      "outputs": [
        {
          "output_type": "stream",
          "text": [
            "% de Sobrevivência\n",
            "Pclass=1 :  0.6296296296296297\n",
            "Pclass=2 :  0.47282608695652173\n",
            "Pclass=3 :  0.24236252545824846\n"
          ],
          "name": "stdout"
        }
      ]
    },
    {
      "cell_type": "markdown",
      "metadata": {
        "id": "XhGpbUMQp2_j",
        "colab_type": "text"
      },
      "source": [
        "### **3 - Idade/Sexo e Sobrevivência**"
      ]
    },
    {
      "cell_type": "code",
      "metadata": {
        "id": "RxOpZGReqKL_",
        "colab_type": "code",
        "colab": {
          "base_uri": "https://localhost:8080/",
          "height": 0
        },
        "outputId": "e427d72d-a0ed-433c-cb40-c97a39aa777b"
      },
      "source": [
        "survived = 'survived'\n",
        "not_survived = 'not survived'\n",
        "fig, axes = plt.subplots(nrows=1, ncols=2,figsize=(10, 4))\n",
        "mulher = df_train[df_train['Sex']=='female']\n",
        "homem = df_train[df_train['Sex']=='male']\n",
        "\n",
        "ax = sns.distplot(mulher[mulher['Survived']==1].Age.dropna(), bins=18, label = survived, ax = axes[0], kde =False)\n",
        "ax = sns.distplot(mulher[mulher['Survived']==0].Age.dropna(), bins=40, label = not_survived, ax = axes[0], kde =False)\n",
        "ax.legend()\n",
        "ax.set_title('Female')\n",
        "ax = sns.distplot(homem[homem['Survived']==1].Age.dropna(), bins=18, label = survived, ax = axes[1], kde = False)\n",
        "ax = sns.distplot(homem[homem['Survived']==0].Age.dropna(), bins=40, label = not_survived, ax = axes[1], kde = False)\n",
        "ax.legend()\n",
        "_ = ax.set_title('Male')"
      ],
      "execution_count": 259,
      "outputs": [
        {
          "output_type": "display_data",
          "data": {
            "image/png": "[encoded data removed]",
            "text/plain": [
              "<Figure size 720x288 with 2 Axes>"
            ]
          },
          "metadata": {
            "tags": [],
            "needs_background": "light"
          }
        }
      ]
    },
    {
      "cell_type": "markdown",
      "metadata": {
        "id": "JjR02dUXsQdQ",
        "colab_type": "text"
      },
      "source": [
        "No contexto masculino a faixa etaria onde tiveram mais sobreviventes foi entre **18 a 38 anos**, já no femino, entre **14 a 28** anos. Idades entre **0,4 a 5** anos tiveram altos volumes para os dois contextos.  "
      ]
    },
    {
      "cell_type": "markdown",
      "metadata": {
        "id": "90FGRYTa92lw",
        "colab_type": "text"
      },
      "source": [
        "### **4 - Ponto de Embarque, Classe and Sexo**"
      ]
    },
    {
      "cell_type": "code",
      "metadata": {
        "id": "EP3-t58g-kCF",
        "colab_type": "code",
        "colab": {
          "base_uri": "https://localhost:8080/",
          "height": 0
        },
        "outputId": "3c01807b-c0c7-42d5-b054-39710fe36c66"
      },
      "source": [
        "FacetGrid = sns.FacetGrid(df_train, row='Embarked', size=4.5, aspect=1.6)\n",
        "FacetGrid.map(sns.pointplot, 'Pclass', 'Survived', 'Sex', palette=None,  order=None, hue_order=None )\n",
        "FacetGrid.add_legend()"
      ],
      "execution_count": 260,
      "outputs": [
        {
          "output_type": "stream",
          "text": [
            "/usr/local/lib/python3.6/dist-packages/seaborn/axisgrid.py:243: UserWarning: The `size` parameter has been renamed to `height`; please update your code.\n",
            "  warnings.warn(msg, UserWarning)\n"
          ],
          "name": "stderr"
        },
        {
          "output_type": "execute_result",
          "data": {
            "text/plain": [
              "<seaborn.axisgrid.FacetGrid at 0x7f5388b642e8>"
            ]
          },
          "metadata": {
            "tags": []
          },
          "execution_count": 260
        },
        {
          "output_type": "display_data",
          "data": {
            "image/png": "[encoded data removed]",
            "text/plain": [
              "<Figure size 588.9x972 with 3 Axes>"
            ]
          },
          "metadata": {
            "tags": [],
            "needs_background": "light"
          }
        }
      ]
    },
    {
      "cell_type": "markdown",
      "metadata": {
        "id": "AMVFpJY4_Xr5",
        "colab_type": "text"
      },
      "source": [
        "Conforme demonstrado no gráfico de pontos, o ponto de embarque está fortemente associado a sobrevivência do passageiro. Podemos perceber que no ponto Q e S, as chances de uma mulher sobreviver é alta, ainda mais se for da primeira ou segunda classe, a mesma lógica acontece inversamente. "
      ]
    },
    {
      "cell_type": "markdown",
      "metadata": {
        "id": "93eQrdfaFwxK",
        "colab_type": "text"
      },
      "source": [
        "### **5 - SibSp and Parch**"
      ]
    },
    {
      "cell_type": "code",
      "metadata": {
        "id": "nc8ujbwDF7ws",
        "colab_type": "code",
        "colab": {
          "base_uri": "https://localhost:8080/",
          "height": 0
        },
        "outputId": "84159b41-e742-49b2-b161-a235cf289561"
      },
      "source": [
        "pd.crosstab(df_train.SibSp, df_train.Survived, margins=True).style.background_gradient(cmap='autumn_r')"
      ],
      "execution_count": 261,
      "outputs": [
        {
          "output_type": "execute_result",
          "data": {
            "text/html": [
              "<style  type=\"text/css\" >\n",
              "    #T_94d27026_efc6_11ea_9000_0242ac1c0002row0_col0 {\n",
              "            background-color:  #ff4700;\n",
              "            color:  #f1f1f1;\n",
              "        }    #T_94d27026_efc6_11ea_9000_0242ac1c0002row0_col1 {\n",
              "            background-color:  #ff6200;\n",
              "            color:  #000000;\n",
              "        }    #T_94d27026_efc6_11ea_9000_0242ac1c0002row0_col2 {\n",
              "            background-color:  #ff5100;\n",
              "            color:  #000000;\n",
              "        }    #T_94d27026_efc6_11ea_9000_0242ac1c0002row1_col0 {\n",
              "            background-color:  #ffd400;\n",
              "            color:  #000000;\n",
              "        }    #T_94d27026_efc6_11ea_9000_0242ac1c0002row1_col1 {\n",
              "            background-color:  #ffac00;\n",
              "            color:  #000000;\n",
              "        }    #T_94d27026_efc6_11ea_9000_0242ac1c0002row1_col2 {\n",
              "            background-color:  #ffc500;\n",
              "            color:  #000000;\n",
              "        }    #T_94d27026_efc6_11ea_9000_0242ac1c0002row2_col0 {\n",
              "            background-color:  #fffb00;\n",
              "            color:  #000000;\n",
              "        }    #T_94d27026_efc6_11ea_9000_0242ac1c0002row2_col1 {\n",
              "            background-color:  #fff600;\n",
              "            color:  #000000;\n",
              "        }    #T_94d27026_efc6_11ea_9000_0242ac1c0002row2_col2 {\n",
              "            background-color:  #fff900;\n",
              "            color:  #000000;\n",
              "        }    #T_94d27026_efc6_11ea_9000_0242ac1c0002row3_col0 {\n",
              "            background-color:  #fffc00;\n",
              "            color:  #000000;\n",
              "        }    #T_94d27026_efc6_11ea_9000_0242ac1c0002row3_col1 {\n",
              "            background-color:  #fffd00;\n",
              "            color:  #000000;\n",
              "        }    #T_94d27026_efc6_11ea_9000_0242ac1c0002row3_col2 {\n",
              "            background-color:  #fffc00;\n",
              "            color:  #000000;\n",
              "        }    #T_94d27026_efc6_11ea_9000_0242ac1c0002row4_col0 {\n",
              "            background-color:  #fffb00;\n",
              "            color:  #000000;\n",
              "        }    #T_94d27026_efc6_11ea_9000_0242ac1c0002row4_col1 {\n",
              "            background-color:  #fffd00;\n",
              "            color:  #000000;\n",
              "        }    #T_94d27026_efc6_11ea_9000_0242ac1c0002row4_col2 {\n",
              "            background-color:  #fffc00;\n",
              "            color:  #000000;\n",
              "        }    #T_94d27026_efc6_11ea_9000_0242ac1c0002row5_col0 {\n",
              "            background-color:  #ffff00;\n",
              "            color:  #000000;\n",
              "        }    #T_94d27026_efc6_11ea_9000_0242ac1c0002row5_col1 {\n",
              "            background-color:  #ffff00;\n",
              "            color:  #000000;\n",
              "        }    #T_94d27026_efc6_11ea_9000_0242ac1c0002row5_col2 {\n",
              "            background-color:  #ffff00;\n",
              "            color:  #000000;\n",
              "        }    #T_94d27026_efc6_11ea_9000_0242ac1c0002row6_col0 {\n",
              "            background-color:  #ffff00;\n",
              "            color:  #000000;\n",
              "        }    #T_94d27026_efc6_11ea_9000_0242ac1c0002row6_col1 {\n",
              "            background-color:  #ffff00;\n",
              "            color:  #000000;\n",
              "        }    #T_94d27026_efc6_11ea_9000_0242ac1c0002row6_col2 {\n",
              "            background-color:  #ffff00;\n",
              "            color:  #000000;\n",
              "        }    #T_94d27026_efc6_11ea_9000_0242ac1c0002row7_col0 {\n",
              "            background-color:  #ff0000;\n",
              "            color:  #f1f1f1;\n",
              "        }    #T_94d27026_efc6_11ea_9000_0242ac1c0002row7_col1 {\n",
              "            background-color:  #ff0000;\n",
              "            color:  #f1f1f1;\n",
              "        }    #T_94d27026_efc6_11ea_9000_0242ac1c0002row7_col2 {\n",
              "            background-color:  #ff0000;\n",
              "            color:  #f1f1f1;\n",
              "        }</style><table id=\"T_94d27026_efc6_11ea_9000_0242ac1c0002\" ><thead>    <tr>        <th class=\"index_name level0\" >Survived</th>        <th class=\"col_heading level0 col0\" >0</th>        <th class=\"col_heading level0 col1\" >1</th>        <th class=\"col_heading level0 col2\" >All</th>    </tr>    <tr>        <th class=\"index_name level0\" >SibSp</th>        <th class=\"blank\" ></th>        <th class=\"blank\" ></th>        <th class=\"blank\" ></th>    </tr></thead><tbody>\n",
              "                <tr>\n",
              "                        <th id=\"T_94d27026_efc6_11ea_9000_0242ac1c0002level0_row0\" class=\"row_heading level0 row0\" >0</th>\n",
              "                        <td id=\"T_94d27026_efc6_11ea_9000_0242ac1c0002row0_col0\" class=\"data row0 col0\" >398</td>\n",
              "                        <td id=\"T_94d27026_efc6_11ea_9000_0242ac1c0002row0_col1\" class=\"data row0 col1\" >210</td>\n",
              "                        <td id=\"T_94d27026_efc6_11ea_9000_0242ac1c0002row0_col2\" class=\"data row0 col2\" >608</td>\n",
              "            </tr>\n",
              "            <tr>\n",
              "                        <th id=\"T_94d27026_efc6_11ea_9000_0242ac1c0002level0_row1\" class=\"row_heading level0 row1\" >1</th>\n",
              "                        <td id=\"T_94d27026_efc6_11ea_9000_0242ac1c0002row1_col0\" class=\"data row1 col0\" >97</td>\n",
              "                        <td id=\"T_94d27026_efc6_11ea_9000_0242ac1c0002row1_col1\" class=\"data row1 col1\" >112</td>\n",
              "                        <td id=\"T_94d27026_efc6_11ea_9000_0242ac1c0002row1_col2\" class=\"data row1 col2\" >209</td>\n",
              "            </tr>\n",
              "            <tr>\n",
              "                        <th id=\"T_94d27026_efc6_11ea_9000_0242ac1c0002level0_row2\" class=\"row_heading level0 row2\" >2</th>\n",
              "                        <td id=\"T_94d27026_efc6_11ea_9000_0242ac1c0002row2_col0\" class=\"data row2 col0\" >15</td>\n",
              "                        <td id=\"T_94d27026_efc6_11ea_9000_0242ac1c0002row2_col1\" class=\"data row2 col1\" >13</td>\n",
              "                        <td id=\"T_94d27026_efc6_11ea_9000_0242ac1c0002row2_col2\" class=\"data row2 col2\" >28</td>\n",
              "            </tr>\n",
              "            <tr>\n",
              "                        <th id=\"T_94d27026_efc6_11ea_9000_0242ac1c0002level0_row3\" class=\"row_heading level0 row3\" >3</th>\n",
              "                        <td id=\"T_94d27026_efc6_11ea_9000_0242ac1c0002row3_col0\" class=\"data row3 col0\" >12</td>\n",
              "                        <td id=\"T_94d27026_efc6_11ea_9000_0242ac1c0002row3_col1\" class=\"data row3 col1\" >4</td>\n",
              "                        <td id=\"T_94d27026_efc6_11ea_9000_0242ac1c0002row3_col2\" class=\"data row3 col2\" >16</td>\n",
              "            </tr>\n",
              "            <tr>\n",
              "                        <th id=\"T_94d27026_efc6_11ea_9000_0242ac1c0002level0_row4\" class=\"row_heading level0 row4\" >4</th>\n",
              "                        <td id=\"T_94d27026_efc6_11ea_9000_0242ac1c0002row4_col0\" class=\"data row4 col0\" >15</td>\n",
              "                        <td id=\"T_94d27026_efc6_11ea_9000_0242ac1c0002row4_col1\" class=\"data row4 col1\" >3</td>\n",
              "                        <td id=\"T_94d27026_efc6_11ea_9000_0242ac1c0002row4_col2\" class=\"data row4 col2\" >18</td>\n",
              "            </tr>\n",
              "            <tr>\n",
              "                        <th id=\"T_94d27026_efc6_11ea_9000_0242ac1c0002level0_row5\" class=\"row_heading level0 row5\" >5</th>\n",
              "                        <td id=\"T_94d27026_efc6_11ea_9000_0242ac1c0002row5_col0\" class=\"data row5 col0\" >5</td>\n",
              "                        <td id=\"T_94d27026_efc6_11ea_9000_0242ac1c0002row5_col1\" class=\"data row5 col1\" >0</td>\n",
              "                        <td id=\"T_94d27026_efc6_11ea_9000_0242ac1c0002row5_col2\" class=\"data row5 col2\" >5</td>\n",
              "            </tr>\n",
              "            <tr>\n",
              "                        <th id=\"T_94d27026_efc6_11ea_9000_0242ac1c0002level0_row6\" class=\"row_heading level0 row6\" >8</th>\n",
              "                        <td id=\"T_94d27026_efc6_11ea_9000_0242ac1c0002row6_col0\" class=\"data row6 col0\" >7</td>\n",
              "                        <td id=\"T_94d27026_efc6_11ea_9000_0242ac1c0002row6_col1\" class=\"data row6 col1\" >0</td>\n",
              "                        <td id=\"T_94d27026_efc6_11ea_9000_0242ac1c0002row6_col2\" class=\"data row6 col2\" >7</td>\n",
              "            </tr>\n",
              "            <tr>\n",
              "                        <th id=\"T_94d27026_efc6_11ea_9000_0242ac1c0002level0_row7\" class=\"row_heading level0 row7\" >All</th>\n",
              "                        <td id=\"T_94d27026_efc6_11ea_9000_0242ac1c0002row7_col0\" class=\"data row7 col0\" >549</td>\n",
              "                        <td id=\"T_94d27026_efc6_11ea_9000_0242ac1c0002row7_col1\" class=\"data row7 col1\" >342</td>\n",
              "                        <td id=\"T_94d27026_efc6_11ea_9000_0242ac1c0002row7_col2\" class=\"data row7 col2\" >891</td>\n",
              "            </tr>\n",
              "    </tbody></table>"
            ],
            "text/plain": [
              "<pandas.io.formats.style.Styler at 0x7f5388784f98>"
            ]
          },
          "metadata": {
            "tags": []
          },
          "execution_count": 261
        }
      ]
    },
    {
      "cell_type": "code",
      "metadata": {
        "id": "c2IPUF1pHyqT",
        "colab_type": "code",
        "colab": {
          "base_uri": "https://localhost:8080/",
          "height": 0
        },
        "outputId": "24ac7085-ec71-4a02-90e0-b996459defe1"
      },
      "source": [
        "pd.crosstab(df_train.Parch, df_train.Survived, margins=True).style.background_gradient(cmap='autumn_r')"
      ],
      "execution_count": 262,
      "outputs": [
        {
          "output_type": "execute_result",
          "data": {
            "text/html": [
              "<style  type=\"text/css\" >\n",
              "    #T_94dd6e72_efc6_11ea_9000_0242ac1c0002row0_col0 {\n",
              "            background-color:  #ff3000;\n",
              "            color:  #f1f1f1;\n",
              "        }    #T_94dd6e72_efc6_11ea_9000_0242ac1c0002row0_col1 {\n",
              "            background-color:  #ff5100;\n",
              "            color:  #000000;\n",
              "        }    #T_94dd6e72_efc6_11ea_9000_0242ac1c0002row0_col2 {\n",
              "            background-color:  #ff3d00;\n",
              "            color:  #f1f1f1;\n",
              "        }    #T_94dd6e72_efc6_11ea_9000_0242ac1c0002row1_col0 {\n",
              "            background-color:  #ffe700;\n",
              "            color:  #000000;\n",
              "        }    #T_94dd6e72_efc6_11ea_9000_0242ac1c0002row1_col1 {\n",
              "            background-color:  #ffcf00;\n",
              "            color:  #000000;\n",
              "        }    #T_94dd6e72_efc6_11ea_9000_0242ac1c0002row1_col2 {\n",
              "            background-color:  #ffde00;\n",
              "            color:  #000000;\n",
              "        }    #T_94dd6e72_efc6_11ea_9000_0242ac1c0002row2_col0 {\n",
              "            background-color:  #ffed00;\n",
              "            color:  #000000;\n",
              "        }    #T_94dd6e72_efc6_11ea_9000_0242ac1c0002row2_col1 {\n",
              "            background-color:  #ffe200;\n",
              "            color:  #000000;\n",
              "        }    #T_94dd6e72_efc6_11ea_9000_0242ac1c0002row2_col2 {\n",
              "            background-color:  #ffe900;\n",
              "            color:  #000000;\n",
              "        }    #T_94dd6e72_efc6_11ea_9000_0242ac1c0002row3_col0 {\n",
              "            background-color:  #ffff00;\n",
              "            color:  #000000;\n",
              "        }    #T_94dd6e72_efc6_11ea_9000_0242ac1c0002row3_col1 {\n",
              "            background-color:  #fffd00;\n",
              "            color:  #000000;\n",
              "        }    #T_94dd6e72_efc6_11ea_9000_0242ac1c0002row3_col2 {\n",
              "            background-color:  #fffe00;\n",
              "            color:  #000000;\n",
              "        }    #T_94dd6e72_efc6_11ea_9000_0242ac1c0002row4_col0 {\n",
              "            background-color:  #fffe00;\n",
              "            color:  #000000;\n",
              "        }    #T_94dd6e72_efc6_11ea_9000_0242ac1c0002row4_col1 {\n",
              "            background-color:  #ffff00;\n",
              "            color:  #000000;\n",
              "        }    #T_94dd6e72_efc6_11ea_9000_0242ac1c0002row4_col2 {\n",
              "            background-color:  #ffff00;\n",
              "            color:  #000000;\n",
              "        }    #T_94dd6e72_efc6_11ea_9000_0242ac1c0002row5_col0 {\n",
              "            background-color:  #fffe00;\n",
              "            color:  #000000;\n",
              "        }    #T_94dd6e72_efc6_11ea_9000_0242ac1c0002row5_col1 {\n",
              "            background-color:  #ffff00;\n",
              "            color:  #000000;\n",
              "        }    #T_94dd6e72_efc6_11ea_9000_0242ac1c0002row5_col2 {\n",
              "            background-color:  #fffe00;\n",
              "            color:  #000000;\n",
              "        }    #T_94dd6e72_efc6_11ea_9000_0242ac1c0002row6_col0 {\n",
              "            background-color:  #ffff00;\n",
              "            color:  #000000;\n",
              "        }    #T_94dd6e72_efc6_11ea_9000_0242ac1c0002row6_col1 {\n",
              "            background-color:  #ffff00;\n",
              "            color:  #000000;\n",
              "        }    #T_94dd6e72_efc6_11ea_9000_0242ac1c0002row6_col2 {\n",
              "            background-color:  #ffff00;\n",
              "            color:  #000000;\n",
              "        }    #T_94dd6e72_efc6_11ea_9000_0242ac1c0002row7_col0 {\n",
              "            background-color:  #ff0000;\n",
              "            color:  #f1f1f1;\n",
              "        }    #T_94dd6e72_efc6_11ea_9000_0242ac1c0002row7_col1 {\n",
              "            background-color:  #ff0000;\n",
              "            color:  #f1f1f1;\n",
              "        }    #T_94dd6e72_efc6_11ea_9000_0242ac1c0002row7_col2 {\n",
              "            background-color:  #ff0000;\n",
              "            color:  #f1f1f1;\n",
              "        }</style><table id=\"T_94dd6e72_efc6_11ea_9000_0242ac1c0002\" ><thead>    <tr>        <th class=\"index_name level0\" >Survived</th>        <th class=\"col_heading level0 col0\" >0</th>        <th class=\"col_heading level0 col1\" >1</th>        <th class=\"col_heading level0 col2\" >All</th>    </tr>    <tr>        <th class=\"index_name level0\" >Parch</th>        <th class=\"blank\" ></th>        <th class=\"blank\" ></th>        <th class=\"blank\" ></th>    </tr></thead><tbody>\n",
              "                <tr>\n",
              "                        <th id=\"T_94dd6e72_efc6_11ea_9000_0242ac1c0002level0_row0\" class=\"row_heading level0 row0\" >0</th>\n",
              "                        <td id=\"T_94dd6e72_efc6_11ea_9000_0242ac1c0002row0_col0\" class=\"data row0 col0\" >445</td>\n",
              "                        <td id=\"T_94dd6e72_efc6_11ea_9000_0242ac1c0002row0_col1\" class=\"data row0 col1\" >233</td>\n",
              "                        <td id=\"T_94dd6e72_efc6_11ea_9000_0242ac1c0002row0_col2\" class=\"data row0 col2\" >678</td>\n",
              "            </tr>\n",
              "            <tr>\n",
              "                        <th id=\"T_94dd6e72_efc6_11ea_9000_0242ac1c0002level0_row1\" class=\"row_heading level0 row1\" >1</th>\n",
              "                        <td id=\"T_94dd6e72_efc6_11ea_9000_0242ac1c0002row1_col0\" class=\"data row1 col0\" >53</td>\n",
              "                        <td id=\"T_94dd6e72_efc6_11ea_9000_0242ac1c0002row1_col1\" class=\"data row1 col1\" >65</td>\n",
              "                        <td id=\"T_94dd6e72_efc6_11ea_9000_0242ac1c0002row1_col2\" class=\"data row1 col2\" >118</td>\n",
              "            </tr>\n",
              "            <tr>\n",
              "                        <th id=\"T_94dd6e72_efc6_11ea_9000_0242ac1c0002level0_row2\" class=\"row_heading level0 row2\" >2</th>\n",
              "                        <td id=\"T_94dd6e72_efc6_11ea_9000_0242ac1c0002row2_col0\" class=\"data row2 col0\" >40</td>\n",
              "                        <td id=\"T_94dd6e72_efc6_11ea_9000_0242ac1c0002row2_col1\" class=\"data row2 col1\" >40</td>\n",
              "                        <td id=\"T_94dd6e72_efc6_11ea_9000_0242ac1c0002row2_col2\" class=\"data row2 col2\" >80</td>\n",
              "            </tr>\n",
              "            <tr>\n",
              "                        <th id=\"T_94dd6e72_efc6_11ea_9000_0242ac1c0002level0_row3\" class=\"row_heading level0 row3\" >3</th>\n",
              "                        <td id=\"T_94dd6e72_efc6_11ea_9000_0242ac1c0002row3_col0\" class=\"data row3 col0\" >2</td>\n",
              "                        <td id=\"T_94dd6e72_efc6_11ea_9000_0242ac1c0002row3_col1\" class=\"data row3 col1\" >3</td>\n",
              "                        <td id=\"T_94dd6e72_efc6_11ea_9000_0242ac1c0002row3_col2\" class=\"data row3 col2\" >5</td>\n",
              "            </tr>\n",
              "            <tr>\n",
              "                        <th id=\"T_94dd6e72_efc6_11ea_9000_0242ac1c0002level0_row4\" class=\"row_heading level0 row4\" >4</th>\n",
              "                        <td id=\"T_94dd6e72_efc6_11ea_9000_0242ac1c0002row4_col0\" class=\"data row4 col0\" >4</td>\n",
              "                        <td id=\"T_94dd6e72_efc6_11ea_9000_0242ac1c0002row4_col1\" class=\"data row4 col1\" >0</td>\n",
              "                        <td id=\"T_94dd6e72_efc6_11ea_9000_0242ac1c0002row4_col2\" class=\"data row4 col2\" >4</td>\n",
              "            </tr>\n",
              "            <tr>\n",
              "                        <th id=\"T_94dd6e72_efc6_11ea_9000_0242ac1c0002level0_row5\" class=\"row_heading level0 row5\" >5</th>\n",
              "                        <td id=\"T_94dd6e72_efc6_11ea_9000_0242ac1c0002row5_col0\" class=\"data row5 col0\" >4</td>\n",
              "                        <td id=\"T_94dd6e72_efc6_11ea_9000_0242ac1c0002row5_col1\" class=\"data row5 col1\" >1</td>\n",
              "                        <td id=\"T_94dd6e72_efc6_11ea_9000_0242ac1c0002row5_col2\" class=\"data row5 col2\" >5</td>\n",
              "            </tr>\n",
              "            <tr>\n",
              "                        <th id=\"T_94dd6e72_efc6_11ea_9000_0242ac1c0002level0_row6\" class=\"row_heading level0 row6\" >6</th>\n",
              "                        <td id=\"T_94dd6e72_efc6_11ea_9000_0242ac1c0002row6_col0\" class=\"data row6 col0\" >1</td>\n",
              "                        <td id=\"T_94dd6e72_efc6_11ea_9000_0242ac1c0002row6_col1\" class=\"data row6 col1\" >0</td>\n",
              "                        <td id=\"T_94dd6e72_efc6_11ea_9000_0242ac1c0002row6_col2\" class=\"data row6 col2\" >1</td>\n",
              "            </tr>\n",
              "            <tr>\n",
              "                        <th id=\"T_94dd6e72_efc6_11ea_9000_0242ac1c0002level0_row7\" class=\"row_heading level0 row7\" >All</th>\n",
              "                        <td id=\"T_94dd6e72_efc6_11ea_9000_0242ac1c0002row7_col0\" class=\"data row7 col0\" >549</td>\n",
              "                        <td id=\"T_94dd6e72_efc6_11ea_9000_0242ac1c0002row7_col1\" class=\"data row7 col1\" >342</td>\n",
              "                        <td id=\"T_94dd6e72_efc6_11ea_9000_0242ac1c0002row7_col2\" class=\"data row7 col2\" >891</td>\n",
              "            </tr>\n",
              "    </tbody></table>"
            ],
            "text/plain": [
              "<pandas.io.formats.style.Styler at 0x7f53887e6358>"
            ]
          },
          "metadata": {
            "tags": []
          },
          "execution_count": 262
        }
      ]
    },
    {
      "cell_type": "code",
      "metadata": {
        "id": "DFlw_2NGIOSK",
        "colab_type": "code",
        "colab": {
          "base_uri": "https://localhost:8080/",
          "height": 0
        },
        "outputId": "fea748a4-7f39-46f1-d88e-875a4c4083a9"
      },
      "source": [
        "data = [df_train,df_test]\n",
        "for dataset in data:\n",
        "    dataset['relatives'] = dataset['SibSp'] + dataset['Parch']\n",
        "    dataset.loc[dataset['relatives'] > 0, 'not_alone'] = 0\n",
        "    dataset.loc[dataset['relatives'] == 0, 'not_alone'] = 1\n",
        "    dataset['not_alone'] = dataset['not_alone'].astype(int)\n",
        "df_train['not_alone'].value_counts()"
      ],
      "execution_count": 263,
      "outputs": [
        {
          "output_type": "execute_result",
          "data": {
            "text/plain": [
              "1    537\n",
              "0    354\n",
              "Name: not_alone, dtype: int64"
            ]
          },
          "metadata": {
            "tags": []
          },
          "execution_count": 263
        }
      ]
    },
    {
      "cell_type": "code",
      "metadata": {
        "id": "VtTJ4cxBI1Ek",
        "colab_type": "code",
        "colab": {
          "base_uri": "https://localhost:8080/",
          "height": 0
        },
        "outputId": "a2dd9947-8360-4e10-81e7-77b03599add4"
      },
      "source": [
        "pd.crosstab(df_train.relatives, df_train.Survived, margins=True).style.background_gradient(cmap='autumn_r')"
      ],
      "execution_count": 264,
      "outputs": [
        {
          "output_type": "execute_result",
          "data": {
            "text/html": [
              "<style  type=\"text/css\" >\n",
              "    #T_94ed292a_efc6_11ea_9000_0242ac1c0002row0_col0 {\n",
              "            background-color:  #ff5200;\n",
              "            color:  #000000;\n",
              "        }    #T_94ed292a_efc6_11ea_9000_0242ac1c0002row0_col1 {\n",
              "            background-color:  #ff8500;\n",
              "            color:  #000000;\n",
              "        }    #T_94ed292a_efc6_11ea_9000_0242ac1c0002row0_col2 {\n",
              "            background-color:  #ff6600;\n",
              "            color:  #000000;\n",
              "        }    #T_94ed292a_efc6_11ea_9000_0242ac1c0002row1_col0 {\n",
              "            background-color:  #ffe000;\n",
              "            color:  #000000;\n",
              "        }    #T_94ed292a_efc6_11ea_9000_0242ac1c0002row1_col1 {\n",
              "            background-color:  #ffbd00;\n",
              "            color:  #000000;\n",
              "        }    #T_94ed292a_efc6_11ea_9000_0242ac1c0002row1_col2 {\n",
              "            background-color:  #ffd300;\n",
              "            color:  #000000;\n",
              "        }    #T_94ed292a_efc6_11ea_9000_0242ac1c0002row2_col0 {\n",
              "            background-color:  #ffee00;\n",
              "            color:  #000000;\n",
              "        }    #T_94ed292a_efc6_11ea_9000_0242ac1c0002row2_col1 {\n",
              "            background-color:  #ffd300;\n",
              "            color:  #000000;\n",
              "        }    #T_94ed292a_efc6_11ea_9000_0242ac1c0002row2_col2 {\n",
              "            background-color:  #ffe400;\n",
              "            color:  #000000;\n",
              "        }    #T_94ed292a_efc6_11ea_9000_0242ac1c0002row3_col0 {\n",
              "            background-color:  #ffff00;\n",
              "            color:  #000000;\n",
              "        }    #T_94ed292a_efc6_11ea_9000_0242ac1c0002row3_col1 {\n",
              "            background-color:  #fff000;\n",
              "            color:  #000000;\n",
              "        }    #T_94ed292a_efc6_11ea_9000_0242ac1c0002row3_col2 {\n",
              "            background-color:  #fff900;\n",
              "            color:  #000000;\n",
              "        }    #T_94ed292a_efc6_11ea_9000_0242ac1c0002row4_col0 {\n",
              "            background-color:  #fffd00;\n",
              "            color:  #000000;\n",
              "        }    #T_94ed292a_efc6_11ea_9000_0242ac1c0002row4_col1 {\n",
              "            background-color:  #fffd00;\n",
              "            color:  #000000;\n",
              "        }    #T_94ed292a_efc6_11ea_9000_0242ac1c0002row4_col2 {\n",
              "            background-color:  #fffd00;\n",
              "            color:  #000000;\n",
              "        }    #T_94ed292a_efc6_11ea_9000_0242ac1c0002row5_col0 {\n",
              "            background-color:  #fff900;\n",
              "            color:  #000000;\n",
              "        }    #T_94ed292a_efc6_11ea_9000_0242ac1c0002row5_col1 {\n",
              "            background-color:  #fffd00;\n",
              "            color:  #000000;\n",
              "        }    #T_94ed292a_efc6_11ea_9000_0242ac1c0002row5_col2 {\n",
              "            background-color:  #fffb00;\n",
              "            color:  #000000;\n",
              "        }    #T_94ed292a_efc6_11ea_9000_0242ac1c0002row6_col0 {\n",
              "            background-color:  #ffff00;\n",
              "            color:  #000000;\n",
              "        }    #T_94ed292a_efc6_11ea_9000_0242ac1c0002row6_col1 {\n",
              "            background-color:  #fffd00;\n",
              "            color:  #000000;\n",
              "        }    #T_94ed292a_efc6_11ea_9000_0242ac1c0002row6_col2 {\n",
              "            background-color:  #fffe00;\n",
              "            color:  #000000;\n",
              "        }    #T_94ed292a_efc6_11ea_9000_0242ac1c0002row7_col0 {\n",
              "            background-color:  #ffff00;\n",
              "            color:  #000000;\n",
              "        }    #T_94ed292a_efc6_11ea_9000_0242ac1c0002row7_col1 {\n",
              "            background-color:  #ffff00;\n",
              "            color:  #000000;\n",
              "        }    #T_94ed292a_efc6_11ea_9000_0242ac1c0002row7_col2 {\n",
              "            background-color:  #ffff00;\n",
              "            color:  #000000;\n",
              "        }    #T_94ed292a_efc6_11ea_9000_0242ac1c0002row8_col0 {\n",
              "            background-color:  #ffff00;\n",
              "            color:  #000000;\n",
              "        }    #T_94ed292a_efc6_11ea_9000_0242ac1c0002row8_col1 {\n",
              "            background-color:  #ffff00;\n",
              "            color:  #000000;\n",
              "        }    #T_94ed292a_efc6_11ea_9000_0242ac1c0002row8_col2 {\n",
              "            background-color:  #ffff00;\n",
              "            color:  #000000;\n",
              "        }    #T_94ed292a_efc6_11ea_9000_0242ac1c0002row9_col0 {\n",
              "            background-color:  #ff0000;\n",
              "            color:  #f1f1f1;\n",
              "        }    #T_94ed292a_efc6_11ea_9000_0242ac1c0002row9_col1 {\n",
              "            background-color:  #ff0000;\n",
              "            color:  #f1f1f1;\n",
              "        }    #T_94ed292a_efc6_11ea_9000_0242ac1c0002row9_col2 {\n",
              "            background-color:  #ff0000;\n",
              "            color:  #f1f1f1;\n",
              "        }</style><table id=\"T_94ed292a_efc6_11ea_9000_0242ac1c0002\" ><thead>    <tr>        <th class=\"index_name level0\" >Survived</th>        <th class=\"col_heading level0 col0\" >0</th>        <th class=\"col_heading level0 col1\" >1</th>        <th class=\"col_heading level0 col2\" >All</th>    </tr>    <tr>        <th class=\"index_name level0\" >relatives</th>        <th class=\"blank\" ></th>        <th class=\"blank\" ></th>        <th class=\"blank\" ></th>    </tr></thead><tbody>\n",
              "                <tr>\n",
              "                        <th id=\"T_94ed292a_efc6_11ea_9000_0242ac1c0002level0_row0\" class=\"row_heading level0 row0\" >0</th>\n",
              "                        <td id=\"T_94ed292a_efc6_11ea_9000_0242ac1c0002row0_col0\" class=\"data row0 col0\" >374</td>\n",
              "                        <td id=\"T_94ed292a_efc6_11ea_9000_0242ac1c0002row0_col1\" class=\"data row0 col1\" >163</td>\n",
              "                        <td id=\"T_94ed292a_efc6_11ea_9000_0242ac1c0002row0_col2\" class=\"data row0 col2\" >537</td>\n",
              "            </tr>\n",
              "            <tr>\n",
              "                        <th id=\"T_94ed292a_efc6_11ea_9000_0242ac1c0002level0_row1\" class=\"row_heading level0 row1\" >1</th>\n",
              "                        <td id=\"T_94ed292a_efc6_11ea_9000_0242ac1c0002row1_col0\" class=\"data row1 col0\" >72</td>\n",
              "                        <td id=\"T_94ed292a_efc6_11ea_9000_0242ac1c0002row1_col1\" class=\"data row1 col1\" >89</td>\n",
              "                        <td id=\"T_94ed292a_efc6_11ea_9000_0242ac1c0002row1_col2\" class=\"data row1 col2\" >161</td>\n",
              "            </tr>\n",
              "            <tr>\n",
              "                        <th id=\"T_94ed292a_efc6_11ea_9000_0242ac1c0002level0_row2\" class=\"row_heading level0 row2\" >2</th>\n",
              "                        <td id=\"T_94ed292a_efc6_11ea_9000_0242ac1c0002row2_col0\" class=\"data row2 col0\" >43</td>\n",
              "                        <td id=\"T_94ed292a_efc6_11ea_9000_0242ac1c0002row2_col1\" class=\"data row2 col1\" >59</td>\n",
              "                        <td id=\"T_94ed292a_efc6_11ea_9000_0242ac1c0002row2_col2\" class=\"data row2 col2\" >102</td>\n",
              "            </tr>\n",
              "            <tr>\n",
              "                        <th id=\"T_94ed292a_efc6_11ea_9000_0242ac1c0002level0_row3\" class=\"row_heading level0 row3\" >3</th>\n",
              "                        <td id=\"T_94ed292a_efc6_11ea_9000_0242ac1c0002row3_col0\" class=\"data row3 col0\" >8</td>\n",
              "                        <td id=\"T_94ed292a_efc6_11ea_9000_0242ac1c0002row3_col1\" class=\"data row3 col1\" >21</td>\n",
              "                        <td id=\"T_94ed292a_efc6_11ea_9000_0242ac1c0002row3_col2\" class=\"data row3 col2\" >29</td>\n",
              "            </tr>\n",
              "            <tr>\n",
              "                        <th id=\"T_94ed292a_efc6_11ea_9000_0242ac1c0002level0_row4\" class=\"row_heading level0 row4\" >4</th>\n",
              "                        <td id=\"T_94ed292a_efc6_11ea_9000_0242ac1c0002row4_col0\" class=\"data row4 col0\" >12</td>\n",
              "                        <td id=\"T_94ed292a_efc6_11ea_9000_0242ac1c0002row4_col1\" class=\"data row4 col1\" >3</td>\n",
              "                        <td id=\"T_94ed292a_efc6_11ea_9000_0242ac1c0002row4_col2\" class=\"data row4 col2\" >15</td>\n",
              "            </tr>\n",
              "            <tr>\n",
              "                        <th id=\"T_94ed292a_efc6_11ea_9000_0242ac1c0002level0_row5\" class=\"row_heading level0 row5\" >5</th>\n",
              "                        <td id=\"T_94ed292a_efc6_11ea_9000_0242ac1c0002row5_col0\" class=\"data row5 col0\" >19</td>\n",
              "                        <td id=\"T_94ed292a_efc6_11ea_9000_0242ac1c0002row5_col1\" class=\"data row5 col1\" >3</td>\n",
              "                        <td id=\"T_94ed292a_efc6_11ea_9000_0242ac1c0002row5_col2\" class=\"data row5 col2\" >22</td>\n",
              "            </tr>\n",
              "            <tr>\n",
              "                        <th id=\"T_94ed292a_efc6_11ea_9000_0242ac1c0002level0_row6\" class=\"row_heading level0 row6\" >6</th>\n",
              "                        <td id=\"T_94ed292a_efc6_11ea_9000_0242ac1c0002row6_col0\" class=\"data row6 col0\" >8</td>\n",
              "                        <td id=\"T_94ed292a_efc6_11ea_9000_0242ac1c0002row6_col1\" class=\"data row6 col1\" >4</td>\n",
              "                        <td id=\"T_94ed292a_efc6_11ea_9000_0242ac1c0002row6_col2\" class=\"data row6 col2\" >12</td>\n",
              "            </tr>\n",
              "            <tr>\n",
              "                        <th id=\"T_94ed292a_efc6_11ea_9000_0242ac1c0002level0_row7\" class=\"row_heading level0 row7\" >7</th>\n",
              "                        <td id=\"T_94ed292a_efc6_11ea_9000_0242ac1c0002row7_col0\" class=\"data row7 col0\" >6</td>\n",
              "                        <td id=\"T_94ed292a_efc6_11ea_9000_0242ac1c0002row7_col1\" class=\"data row7 col1\" >0</td>\n",
              "                        <td id=\"T_94ed292a_efc6_11ea_9000_0242ac1c0002row7_col2\" class=\"data row7 col2\" >6</td>\n",
              "            </tr>\n",
              "            <tr>\n",
              "                        <th id=\"T_94ed292a_efc6_11ea_9000_0242ac1c0002level0_row8\" class=\"row_heading level0 row8\" >10</th>\n",
              "                        <td id=\"T_94ed292a_efc6_11ea_9000_0242ac1c0002row8_col0\" class=\"data row8 col0\" >7</td>\n",
              "                        <td id=\"T_94ed292a_efc6_11ea_9000_0242ac1c0002row8_col1\" class=\"data row8 col1\" >0</td>\n",
              "                        <td id=\"T_94ed292a_efc6_11ea_9000_0242ac1c0002row8_col2\" class=\"data row8 col2\" >7</td>\n",
              "            </tr>\n",
              "            <tr>\n",
              "                        <th id=\"T_94ed292a_efc6_11ea_9000_0242ac1c0002level0_row9\" class=\"row_heading level0 row9\" >All</th>\n",
              "                        <td id=\"T_94ed292a_efc6_11ea_9000_0242ac1c0002row9_col0\" class=\"data row9 col0\" >549</td>\n",
              "                        <td id=\"T_94ed292a_efc6_11ea_9000_0242ac1c0002row9_col1\" class=\"data row9 col1\" >342</td>\n",
              "                        <td id=\"T_94ed292a_efc6_11ea_9000_0242ac1c0002row9_col2\" class=\"data row9 col2\" >891</td>\n",
              "            </tr>\n",
              "    </tbody></table>"
            ],
            "text/plain": [
              "<pandas.io.formats.style.Styler at 0x7f5388bb1860>"
            ]
          },
          "metadata": {
            "tags": []
          },
          "execution_count": 264
        }
      ]
    },
    {
      "cell_type": "markdown",
      "metadata": {
        "id": "dd06zJr9KPwP",
        "colab_type": "text"
      },
      "source": [
        "Aparentemente a quantidade de filhos ou parentes que estavam embarcados junto com passageiro não tem muita relevância para sobrevivência"
      ]
    },
    {
      "cell_type": "markdown",
      "metadata": {
        "id": "4eVvp2hqK05q",
        "colab_type": "text"
      },
      "source": [
        "# Tratamento dos dados"
      ]
    },
    {
      "cell_type": "code",
      "metadata": {
        "id": "8pt9hbwjMxmV",
        "colab_type": "code",
        "colab": {}
      },
      "source": [
        "df_train = df_train.drop(['PassengerId'], axis=1)"
      ],
      "execution_count": 265,
      "outputs": []
    },
    {
      "cell_type": "code",
      "metadata": {
        "id": "A947nl95NP7W",
        "colab_type": "code",
        "colab": {}
      },
      "source": [
        "deck = {\"A\": 1, \"B\": 2, \"C\": 3, \"D\": 4, \"E\": 5, \"F\": 6, \"G\": 7, \"U\": 8}\n",
        "data = [df_train, df_test]\n",
        "\n",
        "for dataset in data:\n",
        "    dataset['Cabin'] = dataset['Cabin'].fillna(\"U0\")\n",
        "    dataset['Deck'] = dataset['Cabin'].map(lambda x: re.compile(\"([a-zA-Z]+)\").search(x).group())\n",
        "    dataset['Deck'] = dataset['Deck'].map(deck)\n",
        "    dataset['Deck'] = dataset['Deck'].fillna(0)\n",
        "    dataset['Deck'] = dataset['Deck'].astype(int)\n",
        "# we can now drop the cabin feature\n",
        "df_train = df_train.drop(['Cabin'], axis=1)\n",
        "df_test = df_test.drop(['Cabin'], axis=1)"
      ],
      "execution_count": 266,
      "outputs": []
    },
    {
      "cell_type": "code",
      "metadata": {
        "id": "ZP5OII2mOFOl",
        "colab_type": "code",
        "colab": {
          "base_uri": "https://localhost:8080/",
          "height": 0
        },
        "outputId": "5d04a966-e499-46e6-b101-f918d2928537"
      },
      "source": [
        "data = [df_train, df_test]\n",
        "\n",
        "for dataset in data:\n",
        "    mean = df_train[\"Age\"].mean()\n",
        "    std = df_test[\"Age\"].std()\n",
        "    is_null = dataset[\"Age\"].isnull().sum()\n",
        "    # compute random numbers between the mean, std and is_null\n",
        "    rand_age = np.random.randint(mean - std, mean + std, size = is_null)\n",
        "    # fill NaN values in Age column with random values generated\n",
        "    age_slice = dataset[\"Age\"].copy()\n",
        "    age_slice[np.isnan(age_slice)] = rand_age\n",
        "    dataset[\"Age\"] = age_slice\n",
        "    dataset[\"Age\"] = df_train[\"Age\"].astype(int)\n",
        "    \n",
        "df_train[\"Age\"].isnull().sum()"
      ],
      "execution_count": 267,
      "outputs": [
        {
          "output_type": "execute_result",
          "data": {
            "text/plain": [
              "0"
            ]
          },
          "metadata": {
            "tags": []
          },
          "execution_count": 267
        }
      ]
    },
    {
      "cell_type": "code",
      "metadata": {
        "id": "QjoMr4BAOy9K",
        "colab_type": "code",
        "colab": {
          "base_uri": "https://localhost:8080/",
          "height": 0
        },
        "outputId": "173e2855-fbe5-4a23-ed05-f66f6c882e57"
      },
      "source": [
        "df_train['Embarked'].describe()"
      ],
      "execution_count": 268,
      "outputs": [
        {
          "output_type": "execute_result",
          "data": {
            "text/plain": [
              "count     889\n",
              "unique      3\n",
              "top         S\n",
              "freq      644\n",
              "Name: Embarked, dtype: object"
            ]
          },
          "metadata": {
            "tags": []
          },
          "execution_count": 268
        }
      ]
    },
    {
      "cell_type": "code",
      "metadata": {
        "id": "IJen3pHcO5jd",
        "colab_type": "code",
        "colab": {}
      },
      "source": [
        "common_value = 'S'\n",
        "data = [df_train, df_test]\n",
        "\n",
        "for dataset in data:\n",
        "    dataset['Embarked'] = dataset['Embarked'].fillna(common_value)"
      ],
      "execution_count": 269,
      "outputs": []
    },
    {
      "cell_type": "code",
      "metadata": {
        "id": "PzAzge2MPACg",
        "colab_type": "code",
        "colab": {
          "base_uri": "https://localhost:8080/",
          "height": 0
        },
        "outputId": "e0243f65-5c80-4f13-a817-eb661b4eab71"
      },
      "source": [
        "df_train.info()"
      ],
      "execution_count": 270,
      "outputs": [
        {
          "output_type": "stream",
          "text": [
            "<class 'pandas.core.frame.DataFrame'>\n",
            "RangeIndex: 891 entries, 0 to 890\n",
            "Data columns (total 13 columns):\n",
            " #   Column     Non-Null Count  Dtype  \n",
            "---  ------     --------------  -----  \n",
            " 0   Survived   891 non-null    int64  \n",
            " 1   Pclass     891 non-null    int64  \n",
            " 2   Name       891 non-null    object \n",
            " 3   Sex        891 non-null    object \n",
            " 4   Age        891 non-null    int64  \n",
            " 5   SibSp      891 non-null    int64  \n",
            " 6   Parch      891 non-null    int64  \n",
            " 7   Ticket     891 non-null    object \n",
            " 8   Fare       891 non-null    float64\n",
            " 9   Embarked   891 non-null    object \n",
            " 10  relatives  891 non-null    int64  \n",
            " 11  not_alone  891 non-null    int64  \n",
            " 12  Deck       891 non-null    int64  \n",
            "dtypes: float64(1), int64(8), object(4)\n",
            "memory usage: 90.6+ KB\n"
          ],
          "name": "stdout"
        }
      ]
    },
    {
      "cell_type": "code",
      "metadata": {
        "id": "GTm86FA_PUKw",
        "colab_type": "code",
        "colab": {}
      },
      "source": [
        "data = [df_train, df_test]\n",
        "\n",
        "for dataset in data:\n",
        "    dataset['Fare'] = dataset['Fare'].fillna(0)\n",
        "    dataset['Fare'] = dataset['Fare'].astype(int)"
      ],
      "execution_count": 271,
      "outputs": []
    },
    {
      "cell_type": "code",
      "metadata": {
        "id": "cLUO8P8hPxm0",
        "colab_type": "code",
        "colab": {}
      },
      "source": [
        "data = [df_train, df_test]\n",
        "titles = {\"Mr\": 1, \"Miss\": 2, \"Mrs\": 3, \"Master\": 4, \"Rare\": 5}\n",
        "\n",
        "for dataset in data:\n",
        "    # extract titles\n",
        "    dataset['Title'] = dataset.Name.str.extract(' ([A-Za-z]+)\\.', expand=False)\n",
        "    # replace titles with a more common title or as Rare\n",
        "    dataset['Title'] = dataset['Title'].replace(['Lady', 'Countess','Capt', 'Col','Don', 'Dr',\\\n",
        "                                            'Major', 'Rev', 'Sir', 'Jonkheer', 'Dona'], 'Rare')\n",
        "    dataset['Title'] = dataset['Title'].replace('Mlle', 'Miss')\n",
        "    dataset['Title'] = dataset['Title'].replace('Ms', 'Miss')\n",
        "    dataset['Title'] = dataset['Title'].replace('Mme', 'Mrs')\n",
        "    # convert titles into numbers\n",
        "    dataset['Title'] = dataset['Title'].map(titles)\n",
        "    # filling NaN with 0, to get safe\n",
        "    dataset['Title'] = dataset['Title'].fillna(0)\n",
        "df_train = df_train.drop(['Name'], axis=1)\n",
        "df_test = df_test.drop(['Name'], axis=1)"
      ],
      "execution_count": 272,
      "outputs": []
    },
    {
      "cell_type": "code",
      "metadata": {
        "id": "LirhbER_QFoP",
        "colab_type": "code",
        "colab": {}
      },
      "source": [
        "genders = {\"male\": 0, \"female\": 1}\n",
        "data = [df_train, df_test]\n",
        "\n",
        "for dataset in data:\n",
        "    dataset['Sex'] = dataset['Sex'].map(genders)"
      ],
      "execution_count": 273,
      "outputs": []
    },
    {
      "cell_type": "code",
      "metadata": {
        "id": "UfcXRurPzDgW",
        "colab_type": "code",
        "colab": {
          "base_uri": "https://localhost:8080/",
          "height": 0
        },
        "outputId": "953fe699-9f32-47ef-8b55-79a0bf98fdc1"
      },
      "source": [
        "df_train['Ticket'].describe()"
      ],
      "execution_count": 274,
      "outputs": [
        {
          "output_type": "execute_result",
          "data": {
            "text/plain": [
              "count      891\n",
              "unique     681\n",
              "top       1601\n",
              "freq         7\n",
              "Name: Ticket, dtype: object"
            ]
          },
          "metadata": {
            "tags": []
          },
          "execution_count": 274
        }
      ]
    },
    {
      "cell_type": "code",
      "metadata": {
        "id": "0eQJU85zzMtN",
        "colab_type": "code",
        "colab": {}
      },
      "source": [
        "df_train = df_train.drop(['Ticket'], axis=1)\n",
        "df_test = df_test.drop(['Ticket'], axis=1)"
      ],
      "execution_count": 275,
      "outputs": []
    },
    {
      "cell_type": "code",
      "metadata": {
        "id": "jp2okaOjzViY",
        "colab_type": "code",
        "colab": {}
      },
      "source": [
        "ports = {\"S\": 0, \"C\": 1, \"Q\": 2}\n",
        "data = [df_train, df_test]\n",
        "\n",
        "for dataset in data:\n",
        "    dataset['Embarked'] = dataset['Embarked'].map(ports)"
      ],
      "execution_count": 276,
      "outputs": []
    },
    {
      "cell_type": "code",
      "metadata": {
        "id": "P8XtOf7gzson",
        "colab_type": "code",
        "colab": {
          "base_uri": "https://localhost:8080/",
          "height": 0
        },
        "outputId": "00e7c0b1-c15a-42d2-fa2a-7734d1aebd28"
      },
      "source": [
        "data = [df_train, df_test]\n",
        "\n",
        "for dataset in data:\n",
        "    dataset['Age'] = dataset['Age'].astype(int)\n",
        "    dataset.loc[ dataset['Age'] <= 11, 'Age'] = 0\n",
        "    dataset.loc[(dataset['Age'] > 11) & (dataset['Age'] <= 18), 'Age'] = 1\n",
        "    dataset.loc[(dataset['Age'] > 18) & (dataset['Age'] <= 22), 'Age'] = 2\n",
        "    dataset.loc[(dataset['Age'] > 22) & (dataset['Age'] <= 27), 'Age'] = 3\n",
        "    dataset.loc[(dataset['Age'] > 27) & (dataset['Age'] <= 33), 'Age'] = 4\n",
        "    dataset.loc[(dataset['Age'] > 33) & (dataset['Age'] <= 40), 'Age'] = 5\n",
        "    dataset.loc[(dataset['Age'] > 40) & (dataset['Age'] <= 66), 'Age'] = 6\n",
        "    dataset.loc[ dataset['Age'] > 66, 'Age'] = 7\n",
        "\n",
        "# let's see how it's distributed \n",
        "df_train['Age'].value_counts()"
      ],
      "execution_count": 277,
      "outputs": [
        {
          "output_type": "execute_result",
          "data": {
            "text/plain": [
              "4    176\n",
              "6    153\n",
              "5    146\n",
              "3    132\n",
              "2    116\n",
              "1     93\n",
              "0     68\n",
              "7      7\n",
              "Name: Age, dtype: int64"
            ]
          },
          "metadata": {
            "tags": []
          },
          "execution_count": 277
        }
      ]
    },
    {
      "cell_type": "code",
      "metadata": {
        "id": "6iKG8-VW1g9a",
        "colab_type": "code",
        "colab": {}
      },
      "source": [
        "data = [df_train, df_test]\n",
        "\n",
        "for dataset in data:\n",
        "    dataset.loc[ dataset['Fare'] <= 7.91, 'Fare'] = 0\n",
        "    dataset.loc[(dataset['Fare'] > 7.91) & (dataset['Fare'] <= 14.454), 'Fare'] = 1\n",
        "    dataset.loc[(dataset['Fare'] > 14.454) & (dataset['Fare'] <= 31), 'Fare']   = 2\n",
        "    dataset.loc[(dataset['Fare'] > 31) & (dataset['Fare'] <= 99), 'Fare']   = 3\n",
        "    dataset.loc[(dataset['Fare'] > 99) & (dataset['Fare'] <= 250), 'Fare']   = 4\n",
        "    dataset.loc[ dataset['Fare'] > 250, 'Fare'] = 5\n",
        "    dataset['Fare'] = dataset['Fare'].astype(int)"
      ],
      "execution_count": 278,
      "outputs": []
    },
    {
      "cell_type": "code",
      "metadata": {
        "id": "JDK0SbtO1uid",
        "colab_type": "code",
        "colab": {}
      },
      "source": [
        "data = [df_train, df_test]\n",
        "\n",
        "for dataset in data:\n",
        "    dataset['Age_Class']= dataset['Age']* dataset['Pclass']"
      ],
      "execution_count": 279,
      "outputs": []
    },
    {
      "cell_type": "code",
      "metadata": {
        "id": "kpuZUsNS2Dkg",
        "colab_type": "code",
        "colab": {
          "base_uri": "https://localhost:8080/",
          "height": 0
        },
        "outputId": "c11d0f5b-84fe-4823-8922-104e717cb754"
      },
      "source": [
        "for dataset in data:\n",
        "    dataset['Fare_Per_Person'] = dataset['Fare']/(dataset['relatives']+1)\n",
        "    dataset['Fare_Per_Person'] = dataset['Fare_Per_Person'].astype(int)\n",
        "# Let's take a last look at the training set, before we start training the models.\n",
        "df_train.head(10)"
      ],
      "execution_count": 280,
      "outputs": [
        {
          "output_type": "execute_result",
          "data": {
            "text/html": [
              "<div>\n",
              "<style scoped>\n",
              "    .dataframe tbody tr th:only-of-type {\n",
              "        vertical-align: middle;\n",
              "    }\n",
              "\n",
              "    .dataframe tbody tr th {\n",
              "        vertical-align: top;\n",
              "    }\n",
              "\n",
              "    .dataframe thead th {\n",
              "        text-align: right;\n",
              "    }\n",
              "</style>\n",
              "<table border=\"1\" class=\"dataframe\">\n",
              "  <thead>\n",
              "    <tr style=\"text-align: right;\">\n",
              "      <th></th>\n",
              "      <th>Survived</th>\n",
              "      <th>Pclass</th>\n",
              "      <th>Sex</th>\n",
              "      <th>Age</th>\n",
              "      <th>SibSp</th>\n",
              "      <th>Parch</th>\n",
              "      <th>Fare</th>\n",
              "      <th>Embarked</th>\n",
              "      <th>relatives</th>\n",
              "      <th>not_alone</th>\n",
              "      <th>Deck</th>\n",
              "      <th>Title</th>\n",
              "      <th>Age_Class</th>\n",
              "      <th>Fare_Per_Person</th>\n",
              "    </tr>\n",
              "  </thead>\n",
              "  <tbody>\n",
              "    <tr>\n",
              "      <th>0</th>\n",
              "      <td>0</td>\n",
              "      <td>3</td>\n",
              "      <td>0</td>\n",
              "      <td>2</td>\n",
              "      <td>1</td>\n",
              "      <td>0</td>\n",
              "      <td>0</td>\n",
              "      <td>0</td>\n",
              "      <td>1</td>\n",
              "      <td>0</td>\n",
              "      <td>8</td>\n",
              "      <td>1</td>\n",
              "      <td>6</td>\n",
              "      <td>0</td>\n",
              "    </tr>\n",
              "    <tr>\n",
              "      <th>1</th>\n",
              "      <td>1</td>\n",
              "      <td>1</td>\n",
              "      <td>1</td>\n",
              "      <td>5</td>\n",
              "      <td>1</td>\n",
              "      <td>0</td>\n",
              "      <td>3</td>\n",
              "      <td>1</td>\n",
              "      <td>1</td>\n",
              "      <td>0</td>\n",
              "      <td>3</td>\n",
              "      <td>3</td>\n",
              "      <td>5</td>\n",
              "      <td>1</td>\n",
              "    </tr>\n",
              "    <tr>\n",
              "      <th>2</th>\n",
              "      <td>1</td>\n",
              "      <td>3</td>\n",
              "      <td>1</td>\n",
              "      <td>3</td>\n",
              "      <td>0</td>\n",
              "      <td>0</td>\n",
              "      <td>0</td>\n",
              "      <td>0</td>\n",
              "      <td>0</td>\n",
              "      <td>1</td>\n",
              "      <td>8</td>\n",
              "      <td>2</td>\n",
              "      <td>9</td>\n",
              "      <td>0</td>\n",
              "    </tr>\n",
              "    <tr>\n",
              "      <th>3</th>\n",
              "      <td>1</td>\n",
              "      <td>1</td>\n",
              "      <td>1</td>\n",
              "      <td>5</td>\n",
              "      <td>1</td>\n",
              "      <td>0</td>\n",
              "      <td>3</td>\n",
              "      <td>0</td>\n",
              "      <td>1</td>\n",
              "      <td>0</td>\n",
              "      <td>3</td>\n",
              "      <td>3</td>\n",
              "      <td>5</td>\n",
              "      <td>1</td>\n",
              "    </tr>\n",
              "    <tr>\n",
              "      <th>4</th>\n",
              "      <td>0</td>\n",
              "      <td>3</td>\n",
              "      <td>0</td>\n",
              "      <td>5</td>\n",
              "      <td>0</td>\n",
              "      <td>0</td>\n",
              "      <td>1</td>\n",
              "      <td>0</td>\n",
              "      <td>0</td>\n",
              "      <td>1</td>\n",
              "      <td>8</td>\n",
              "      <td>1</td>\n",
              "      <td>15</td>\n",
              "      <td>1</td>\n",
              "    </tr>\n",
              "    <tr>\n",
              "      <th>5</th>\n",
              "      <td>0</td>\n",
              "      <td>3</td>\n",
              "      <td>0</td>\n",
              "      <td>5</td>\n",
              "      <td>0</td>\n",
              "      <td>0</td>\n",
              "      <td>1</td>\n",
              "      <td>2</td>\n",
              "      <td>0</td>\n",
              "      <td>1</td>\n",
              "      <td>8</td>\n",
              "      <td>1</td>\n",
              "      <td>15</td>\n",
              "      <td>1</td>\n",
              "    </tr>\n",
              "    <tr>\n",
              "      <th>6</th>\n",
              "      <td>0</td>\n",
              "      <td>1</td>\n",
              "      <td>0</td>\n",
              "      <td>6</td>\n",
              "      <td>0</td>\n",
              "      <td>0</td>\n",
              "      <td>3</td>\n",
              "      <td>0</td>\n",
              "      <td>0</td>\n",
              "      <td>1</td>\n",
              "      <td>5</td>\n",
              "      <td>1</td>\n",
              "      <td>6</td>\n",
              "      <td>3</td>\n",
              "    </tr>\n",
              "    <tr>\n",
              "      <th>7</th>\n",
              "      <td>0</td>\n",
              "      <td>3</td>\n",
              "      <td>0</td>\n",
              "      <td>0</td>\n",
              "      <td>3</td>\n",
              "      <td>1</td>\n",
              "      <td>2</td>\n",
              "      <td>0</td>\n",
              "      <td>4</td>\n",
              "      <td>0</td>\n",
              "      <td>8</td>\n",
              "      <td>4</td>\n",
              "      <td>0</td>\n",
              "      <td>0</td>\n",
              "    </tr>\n",
              "    <tr>\n",
              "      <th>8</th>\n",
              "      <td>1</td>\n",
              "      <td>3</td>\n",
              "      <td>1</td>\n",
              "      <td>3</td>\n",
              "      <td>0</td>\n",
              "      <td>2</td>\n",
              "      <td>1</td>\n",
              "      <td>0</td>\n",
              "      <td>2</td>\n",
              "      <td>0</td>\n",
              "      <td>8</td>\n",
              "      <td>3</td>\n",
              "      <td>9</td>\n",
              "      <td>0</td>\n",
              "    </tr>\n",
              "    <tr>\n",
              "      <th>9</th>\n",
              "      <td>1</td>\n",
              "      <td>2</td>\n",
              "      <td>1</td>\n",
              "      <td>1</td>\n",
              "      <td>1</td>\n",
              "      <td>0</td>\n",
              "      <td>2</td>\n",
              "      <td>1</td>\n",
              "      <td>1</td>\n",
              "      <td>0</td>\n",
              "      <td>8</td>\n",
              "      <td>3</td>\n",
              "      <td>2</td>\n",
              "      <td>1</td>\n",
              "    </tr>\n",
              "  </tbody>\n",
              "</table>\n",
              "</div>"
            ],
            "text/plain": [
              "   Survived  Pclass  Sex  Age  ...  Deck  Title  Age_Class  Fare_Per_Person\n",
              "0         0       3    0    2  ...     8      1          6                0\n",
              "1         1       1    1    5  ...     3      3          5                1\n",
              "2         1       3    1    3  ...     8      2          9                0\n",
              "3         1       1    1    5  ...     3      3          5                1\n",
              "4         0       3    0    5  ...     8      1         15                1\n",
              "5         0       3    0    5  ...     8      1         15                1\n",
              "6         0       1    0    6  ...     5      1          6                3\n",
              "7         0       3    0    0  ...     8      4          0                0\n",
              "8         1       3    1    3  ...     8      3          9                0\n",
              "9         1       2    1    1  ...     8      3          2                1\n",
              "\n",
              "[10 rows x 14 columns]"
            ]
          },
          "metadata": {
            "tags": []
          },
          "execution_count": 280
        }
      ]
    },
    {
      "cell_type": "markdown",
      "metadata": {
        "id": "UUrFiXoyCuFv",
        "colab_type": "text"
      },
      "source": [
        "# Modelo ML"
      ]
    },
    {
      "cell_type": "code",
      "metadata": {
        "id": "Ml_-7XleEG33",
        "colab_type": "code",
        "colab": {}
      },
      "source": [
        "X_train = df_train.drop(\"Survived\", axis=1)\n",
        "Y_train = df_train[\"Survived\"]\n",
        "X_test  = df_test.drop(\"PassengerId\", axis=1).copy()"
      ],
      "execution_count": 281,
      "outputs": []
    },
    {
      "cell_type": "code",
      "metadata": {
        "id": "N7-NJTbZDRIY",
        "colab_type": "code",
        "colab": {
          "base_uri": "https://localhost:8080/",
          "height": 0
        },
        "outputId": "a15f1cd7-bad9-47ab-9626-81e1c55e8ded"
      },
      "source": [
        "random_forest = RandomForestClassifier(n_estimators=100)\n",
        "random_forest.fit(X_train, Y_train)"
      ],
      "execution_count": 282,
      "outputs": [
        {
          "output_type": "execute_result",
          "data": {
            "text/plain": [
              "RandomForestClassifier(bootstrap=True, ccp_alpha=0.0, class_weight=None,\n",
              "                       criterion='gini', max_depth=None, max_features='auto',\n",
              "                       max_leaf_nodes=None, max_samples=None,\n",
              "                       min_impurity_decrease=0.0, min_impurity_split=None,\n",
              "                       min_samples_leaf=1, min_samples_split=2,\n",
              "                       min_weight_fraction_leaf=0.0, n_estimators=100,\n",
              "                       n_jobs=None, oob_score=False, random_state=None,\n",
              "                       verbose=0, warm_start=False)"
            ]
          },
          "metadata": {
            "tags": []
          },
          "execution_count": 282
        }
      ]
    },
    {
      "cell_type": "code",
      "metadata": {
        "id": "4PEyHCjLEB8u",
        "colab_type": "code",
        "colab": {
          "base_uri": "https://localhost:8080/",
          "height": 0
        },
        "outputId": "857a71f3-7c4e-418f-c258-438e68b4c84e"
      },
      "source": [
        "random_forest = RandomForestClassifier(n_estimators=100)\n",
        "random_forest.fit(X_train, Y_train)\n",
        "\n",
        "Y_prediction = random_forest.predict(X_test)\n",
        "\n",
        "acc_random_forest = round(random_forest.score(X_train, Y_train) * 100, 2)\n",
        "acc_random_forest"
      ],
      "execution_count": 283,
      "outputs": [
        {
          "output_type": "execute_result",
          "data": {
            "text/plain": [
              "92.93"
            ]
          },
          "metadata": {
            "tags": []
          },
          "execution_count": 283
        }
      ]
    },
    {
      "cell_type": "code",
      "metadata": {
        "id": "6o9LW8GeJ6kt",
        "colab_type": "code",
        "colab": {}
      },
      "source": [
        "df_survided = pd.DataFrame(Y_prediction,columns=['Survived'])\n",
        "df_passengerId = pd.DataFrame(df_test.PassengerId,columns=['PassengerId'])"
      ],
      "execution_count": 284,
      "outputs": []
    },
    {
      "cell_type": "code",
      "metadata": {
        "id": "aPGSLy-IPxAy",
        "colab_type": "code",
        "colab": {}
      },
      "source": [
        "df_submit = pd.concat([df_passengerId, df_survided],axis=1)"
      ],
      "execution_count": 285,
      "outputs": []
    },
    {
      "cell_type": "code",
      "metadata": {
        "id": "x-AsuBVvWTFf",
        "colab_type": "code",
        "colab": {}
      },
      "source": [
        "df_submit.to_csv('titanic_predict.csv',index=False)"
      ],
      "execution_count": 286,
      "outputs": []
    }
  ]
}